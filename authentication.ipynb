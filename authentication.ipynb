{
 "cells": [
  {
   "cell_type": "code",
   "execution_count": 2,
   "id": "leading-lingerie",
   "metadata": {},
   "outputs": [
    {
     "name": "stdout",
     "output_type": "stream",
     "text": [
      "Requirement already satisfied: jupyterthemes in /Users/eli/Library/Python/3.9/lib/python/site-packages (0.20.2)\n",
      "Requirement already satisfied: jupyter_core in /Library/Frameworks/Python.framework/Versions/3.9/lib/python3.9/site-packages (from jupyterthemes) (4.7.1)\n",
      "Requirement already satisfied: notebook>=5.6.0 in /Library/Frameworks/Python.framework/Versions/3.9/lib/python3.9/site-packages (from jupyterthemes) (6.2.0)\n",
      "Requirement already satisfied: ipython>=5.4.1 in /Library/Frameworks/Python.framework/Versions/3.9/lib/python3.9/site-packages (from jupyterthemes) (7.20.0)\n",
      "Requirement already satisfied: matplotlib>=1.4.3 in /Users/eli/Library/Python/3.9/lib/python/site-packages (from jupyterthemes) (3.4.1)\n",
      "Requirement already satisfied: lesscpy>=0.11.2 in /Users/eli/Library/Python/3.9/lib/python/site-packages (from jupyterthemes) (0.14.0)\n",
      "Requirement already satisfied: pexpect>4.3 in /Library/Frameworks/Python.framework/Versions/3.9/lib/python3.9/site-packages (from ipython>=5.4.1->jupyterthemes) (4.8.0)\n",
      "Requirement already satisfied: decorator in /Library/Frameworks/Python.framework/Versions/3.9/lib/python3.9/site-packages (from ipython>=5.4.1->jupyterthemes) (4.4.2)\n",
      "Requirement already satisfied: pickleshare in /Library/Frameworks/Python.framework/Versions/3.9/lib/python3.9/site-packages (from ipython>=5.4.1->jupyterthemes) (0.7.5)\n",
      "Requirement already satisfied: traitlets>=4.2 in /Library/Frameworks/Python.framework/Versions/3.9/lib/python3.9/site-packages (from ipython>=5.4.1->jupyterthemes) (5.0.5)\n",
      "Requirement already satisfied: pygments in /Library/Frameworks/Python.framework/Versions/3.9/lib/python3.9/site-packages (from ipython>=5.4.1->jupyterthemes) (2.7.4)\n",
      "Requirement already satisfied: backcall in /Library/Frameworks/Python.framework/Versions/3.9/lib/python3.9/site-packages (from ipython>=5.4.1->jupyterthemes) (0.2.0)\n",
      "Requirement already satisfied: appnope in /Library/Frameworks/Python.framework/Versions/3.9/lib/python3.9/site-packages (from ipython>=5.4.1->jupyterthemes) (0.1.2)\n",
      "Requirement already satisfied: setuptools>=18.5 in /Library/Frameworks/Python.framework/Versions/3.9/lib/python3.9/site-packages (from ipython>=5.4.1->jupyterthemes) (49.2.1)\n",
      "Requirement already satisfied: prompt-toolkit!=3.0.0,!=3.0.1,<3.1.0,>=2.0.0 in /Library/Frameworks/Python.framework/Versions/3.9/lib/python3.9/site-packages (from ipython>=5.4.1->jupyterthemes) (3.0.14)\n",
      "Requirement already satisfied: jedi>=0.16 in /Library/Frameworks/Python.framework/Versions/3.9/lib/python3.9/site-packages (from ipython>=5.4.1->jupyterthemes) (0.18.0)\n",
      "Requirement already satisfied: parso<0.9.0,>=0.8.0 in /Library/Frameworks/Python.framework/Versions/3.9/lib/python3.9/site-packages (from jedi>=0.16->ipython>=5.4.1->jupyterthemes) (0.8.1)\n",
      "Requirement already satisfied: ply in /Users/eli/Library/Python/3.9/lib/python/site-packages (from lesscpy>=0.11.2->jupyterthemes) (3.11)\n",
      "Requirement already satisfied: six in /Library/Frameworks/Python.framework/Versions/3.9/lib/python3.9/site-packages (from lesscpy>=0.11.2->jupyterthemes) (1.15.0)\n",
      "Requirement already satisfied: numpy>=1.16 in /Users/eli/Library/Python/3.9/lib/python/site-packages (from matplotlib>=1.4.3->jupyterthemes) (1.20.2)\n",
      "Requirement already satisfied: pyparsing>=2.2.1 in /Library/Frameworks/Python.framework/Versions/3.9/lib/python3.9/site-packages (from matplotlib>=1.4.3->jupyterthemes) (2.4.7)\n",
      "Requirement already satisfied: pillow>=6.2.0 in /Users/eli/Library/Python/3.9/lib/python/site-packages (from matplotlib>=1.4.3->jupyterthemes) (8.2.0)\n",
      "Requirement already satisfied: cycler>=0.10 in /Users/eli/Library/Python/3.9/lib/python/site-packages (from matplotlib>=1.4.3->jupyterthemes) (0.10.0)\n",
      "Requirement already satisfied: python-dateutil>=2.7 in /Library/Frameworks/Python.framework/Versions/3.9/lib/python3.9/site-packages (from matplotlib>=1.4.3->jupyterthemes) (2.8.1)\n",
      "Requirement already satisfied: kiwisolver>=1.0.1 in /Users/eli/Library/Python/3.9/lib/python/site-packages (from matplotlib>=1.4.3->jupyterthemes) (1.3.1)\n",
      "Requirement already satisfied: nbformat in /Library/Frameworks/Python.framework/Versions/3.9/lib/python3.9/site-packages (from notebook>=5.6.0->jupyterthemes) (5.1.2)\n",
      "Requirement already satisfied: pyzmq>=17 in /Library/Frameworks/Python.framework/Versions/3.9/lib/python3.9/site-packages (from notebook>=5.6.0->jupyterthemes) (22.0.2)\n",
      "Requirement already satisfied: prometheus-client in /Library/Frameworks/Python.framework/Versions/3.9/lib/python3.9/site-packages (from notebook>=5.6.0->jupyterthemes) (0.9.0)\n",
      "Requirement already satisfied: jinja2 in /Library/Frameworks/Python.framework/Versions/3.9/lib/python3.9/site-packages (from notebook>=5.6.0->jupyterthemes) (2.11.3)\n",
      "Requirement already satisfied: tornado>=6.1 in /Library/Frameworks/Python.framework/Versions/3.9/lib/python3.9/site-packages (from notebook>=5.6.0->jupyterthemes) (6.1)\n",
      "Requirement already satisfied: nbconvert in /Library/Frameworks/Python.framework/Versions/3.9/lib/python3.9/site-packages (from notebook>=5.6.0->jupyterthemes) (6.0.7)\n",
      "Requirement already satisfied: jupyter-client>=5.3.4 in /Library/Frameworks/Python.framework/Versions/3.9/lib/python3.9/site-packages (from notebook>=5.6.0->jupyterthemes) (6.1.11)\n",
      "Requirement already satisfied: ipykernel in /Library/Frameworks/Python.framework/Versions/3.9/lib/python3.9/site-packages (from notebook>=5.6.0->jupyterthemes) (5.4.3)\n",
      "Requirement already satisfied: terminado>=0.8.3 in /Library/Frameworks/Python.framework/Versions/3.9/lib/python3.9/site-packages (from notebook>=5.6.0->jupyterthemes) (0.9.2)\n",
      "Requirement already satisfied: Send2Trash>=1.5.0 in /Library/Frameworks/Python.framework/Versions/3.9/lib/python3.9/site-packages (from notebook>=5.6.0->jupyterthemes) (1.5.0)\n",
      "Requirement already satisfied: ipython-genutils in /Library/Frameworks/Python.framework/Versions/3.9/lib/python3.9/site-packages (from notebook>=5.6.0->jupyterthemes) (0.2.0)\n",
      "Requirement already satisfied: argon2-cffi in /Library/Frameworks/Python.framework/Versions/3.9/lib/python3.9/site-packages (from notebook>=5.6.0->jupyterthemes) (20.1.0)\n",
      "Requirement already satisfied: ptyprocess>=0.5 in /Library/Frameworks/Python.framework/Versions/3.9/lib/python3.9/site-packages (from pexpect>4.3->ipython>=5.4.1->jupyterthemes) (0.7.0)\n",
      "Requirement already satisfied: wcwidth in /Library/Frameworks/Python.framework/Versions/3.9/lib/python3.9/site-packages (from prompt-toolkit!=3.0.0,!=3.0.1,<3.1.0,>=2.0.0->ipython>=5.4.1->jupyterthemes) (0.2.5)\n",
      "Requirement already satisfied: cffi>=1.0.0 in /Library/Frameworks/Python.framework/Versions/3.9/lib/python3.9/site-packages (from argon2-cffi->notebook>=5.6.0->jupyterthemes) (1.14.4)\n",
      "Requirement already satisfied: pycparser in /Library/Frameworks/Python.framework/Versions/3.9/lib/python3.9/site-packages (from cffi>=1.0.0->argon2-cffi->notebook>=5.6.0->jupyterthemes) (2.20)\n",
      "Requirement already satisfied: MarkupSafe>=0.23 in /Library/Frameworks/Python.framework/Versions/3.9/lib/python3.9/site-packages (from jinja2->notebook>=5.6.0->jupyterthemes) (1.1.1)\n",
      "Requirement already satisfied: mistune<2,>=0.8.1 in /Library/Frameworks/Python.framework/Versions/3.9/lib/python3.9/site-packages (from nbconvert->notebook>=5.6.0->jupyterthemes) (0.8.4)\n",
      "Requirement already satisfied: defusedxml in /Library/Frameworks/Python.framework/Versions/3.9/lib/python3.9/site-packages (from nbconvert->notebook>=5.6.0->jupyterthemes) (0.6.0)\n",
      "Requirement already satisfied: jupyterlab-pygments in /Library/Frameworks/Python.framework/Versions/3.9/lib/python3.9/site-packages (from nbconvert->notebook>=5.6.0->jupyterthemes) (0.1.2)\n",
      "Requirement already satisfied: bleach in /Library/Frameworks/Python.framework/Versions/3.9/lib/python3.9/site-packages (from nbconvert->notebook>=5.6.0->jupyterthemes) (3.3.0)\n",
      "Requirement already satisfied: nbclient<0.6.0,>=0.5.0 in /Library/Frameworks/Python.framework/Versions/3.9/lib/python3.9/site-packages (from nbconvert->notebook>=5.6.0->jupyterthemes) (0.5.1)\n",
      "Requirement already satisfied: entrypoints>=0.2.2 in /Library/Frameworks/Python.framework/Versions/3.9/lib/python3.9/site-packages (from nbconvert->notebook>=5.6.0->jupyterthemes) (0.3)\n",
      "Requirement already satisfied: pandocfilters>=1.4.1 in /Library/Frameworks/Python.framework/Versions/3.9/lib/python3.9/site-packages (from nbconvert->notebook>=5.6.0->jupyterthemes) (1.4.3)\n",
      "Requirement already satisfied: testpath in /Library/Frameworks/Python.framework/Versions/3.9/lib/python3.9/site-packages (from nbconvert->notebook>=5.6.0->jupyterthemes) (0.4.4)\n"
     ]
    },
    {
     "name": "stdout",
     "output_type": "stream",
     "text": [
      "Requirement already satisfied: nest-asyncio in /Library/Frameworks/Python.framework/Versions/3.9/lib/python3.9/site-packages (from nbclient<0.6.0,>=0.5.0->nbconvert->notebook>=5.6.0->jupyterthemes) (1.5.1)\n",
      "Requirement already satisfied: async-generator in /Library/Frameworks/Python.framework/Versions/3.9/lib/python3.9/site-packages (from nbclient<0.6.0,>=0.5.0->nbconvert->notebook>=5.6.0->jupyterthemes) (1.10)\n",
      "Requirement already satisfied: jsonschema!=2.5.0,>=2.4 in /Library/Frameworks/Python.framework/Versions/3.9/lib/python3.9/site-packages (from nbformat->notebook>=5.6.0->jupyterthemes) (3.2.0)\n",
      "Requirement already satisfied: pyrsistent>=0.14.0 in /Library/Frameworks/Python.framework/Versions/3.9/lib/python3.9/site-packages (from jsonschema!=2.5.0,>=2.4->nbformat->notebook>=5.6.0->jupyterthemes) (0.17.3)\n",
      "Requirement already satisfied: attrs>=17.4.0 in /Library/Frameworks/Python.framework/Versions/3.9/lib/python3.9/site-packages (from jsonschema!=2.5.0,>=2.4->nbformat->notebook>=5.6.0->jupyterthemes) (20.3.0)\n",
      "Requirement already satisfied: webencodings in /Library/Frameworks/Python.framework/Versions/3.9/lib/python3.9/site-packages (from bleach->nbconvert->notebook>=5.6.0->jupyterthemes) (0.5.1)\n",
      "Requirement already satisfied: packaging in /Library/Frameworks/Python.framework/Versions/3.9/lib/python3.9/site-packages (from bleach->nbconvert->notebook>=5.6.0->jupyterthemes) (20.9)\n",
      "\u001b[33mWARNING: You are using pip version 21.0.1; however, version 21.1 is available.\n",
      "You should consider upgrading via the '/usr/local/bin/python3 -m pip install --upgrade pip' command.\u001b[0m\n",
      "Note: you may need to restart the kernel to use updated packages.\n"
     ]
    }
   ],
   "source": [
    "pip install jupyterthemes"
   ]
  },
  {
   "cell_type": "code",
   "execution_count": 3,
   "id": "satisfied-grade",
   "metadata": {},
   "outputs": [
    {
     "ename": "SyntaxError",
     "evalue": "invalid syntax (<ipython-input-3-9e8194b977c5>, line 1)",
     "output_type": "error",
     "traceback": [
      "\u001b[0;36m  File \u001b[0;32m\"<ipython-input-3-9e8194b977c5>\"\u001b[0;36m, line \u001b[0;32m1\u001b[0m\n\u001b[0;31m    jt -t oceans16\u001b[0m\n\u001b[0m          ^\u001b[0m\n\u001b[0;31mSyntaxError\u001b[0m\u001b[0;31m:\u001b[0m invalid syntax\n"
     ]
    }
   ],
   "source": [
    "jt -t oceans16"
   ]
  },
  {
   "cell_type": "code",
   "execution_count": 4,
   "id": "civic-breeding",
   "metadata": {},
   "outputs": [
    {
     "ename": "NameError",
     "evalue": "name 'jt' is not defined",
     "output_type": "error",
     "traceback": [
      "\u001b[0;31m---------------------------------------------------------------------------\u001b[0m",
      "\u001b[0;31mNameError\u001b[0m                                 Traceback (most recent call last)",
      "\u001b[0;32m<ipython-input-4-77bb524fe3e4>\u001b[0m in \u001b[0;36m<module>\u001b[0;34m\u001b[0m\n\u001b[0;32m----> 1\u001b[0;31m \u001b[0mjt\u001b[0m \u001b[0;34m-\u001b[0m\u001b[0ml\u001b[0m\u001b[0;34m\u001b[0m\u001b[0;34m\u001b[0m\u001b[0m\n\u001b[0m",
      "\u001b[0;31mNameError\u001b[0m: name 'jt' is not defined"
     ]
    }
   ],
   "source": [
    "jt -l"
   ]
  },
  {
   "cell_type": "code",
   "execution_count": 5,
   "id": "prescription-investor",
   "metadata": {},
   "outputs": [
    {
     "name": "stdout",
     "output_type": "stream",
     "text": [
      "Requirement already satisfied: jupyterthemes in /Users/eli/Library/Python/3.9/lib/python/site-packages (0.20.2)\n",
      "Requirement already satisfied: jupyter_core in /Library/Frameworks/Python.framework/Versions/3.9/lib/python3.9/site-packages (from jupyterthemes) (4.7.1)\n",
      "Requirement already satisfied: notebook>=5.6.0 in /Library/Frameworks/Python.framework/Versions/3.9/lib/python3.9/site-packages (from jupyterthemes) (6.2.0)\n",
      "Requirement already satisfied: ipython>=5.4.1 in /Library/Frameworks/Python.framework/Versions/3.9/lib/python3.9/site-packages (from jupyterthemes) (7.20.0)\n",
      "Requirement already satisfied: matplotlib>=1.4.3 in /Users/eli/Library/Python/3.9/lib/python/site-packages (from jupyterthemes) (3.4.1)\n",
      "Requirement already satisfied: lesscpy>=0.11.2 in /Users/eli/Library/Python/3.9/lib/python/site-packages (from jupyterthemes) (0.14.0)\n",
      "Requirement already satisfied: traitlets>=4.2 in /Library/Frameworks/Python.framework/Versions/3.9/lib/python3.9/site-packages (from ipython>=5.4.1->jupyterthemes) (5.0.5)\n",
      "Requirement already satisfied: pygments in /Library/Frameworks/Python.framework/Versions/3.9/lib/python3.9/site-packages (from ipython>=5.4.1->jupyterthemes) (2.7.4)\n",
      "Requirement already satisfied: pexpect>4.3 in /Library/Frameworks/Python.framework/Versions/3.9/lib/python3.9/site-packages (from ipython>=5.4.1->jupyterthemes) (4.8.0)\n",
      "Requirement already satisfied: prompt-toolkit!=3.0.0,!=3.0.1,<3.1.0,>=2.0.0 in /Library/Frameworks/Python.framework/Versions/3.9/lib/python3.9/site-packages (from ipython>=5.4.1->jupyterthemes) (3.0.14)\n",
      "Requirement already satisfied: jedi>=0.16 in /Library/Frameworks/Python.framework/Versions/3.9/lib/python3.9/site-packages (from ipython>=5.4.1->jupyterthemes) (0.18.0)\n",
      "Requirement already satisfied: pickleshare in /Library/Frameworks/Python.framework/Versions/3.9/lib/python3.9/site-packages (from ipython>=5.4.1->jupyterthemes) (0.7.5)\n",
      "Requirement already satisfied: setuptools>=18.5 in /Library/Frameworks/Python.framework/Versions/3.9/lib/python3.9/site-packages (from ipython>=5.4.1->jupyterthemes) (49.2.1)\n",
      "Requirement already satisfied: decorator in /Library/Frameworks/Python.framework/Versions/3.9/lib/python3.9/site-packages (from ipython>=5.4.1->jupyterthemes) (4.4.2)\n",
      "Requirement already satisfied: backcall in /Library/Frameworks/Python.framework/Versions/3.9/lib/python3.9/site-packages (from ipython>=5.4.1->jupyterthemes) (0.2.0)\n",
      "Requirement already satisfied: appnope in /Library/Frameworks/Python.framework/Versions/3.9/lib/python3.9/site-packages (from ipython>=5.4.1->jupyterthemes) (0.1.2)\n",
      "Requirement already satisfied: parso<0.9.0,>=0.8.0 in /Library/Frameworks/Python.framework/Versions/3.9/lib/python3.9/site-packages (from jedi>=0.16->ipython>=5.4.1->jupyterthemes) (0.8.1)\n",
      "Requirement already satisfied: six in /Library/Frameworks/Python.framework/Versions/3.9/lib/python3.9/site-packages (from lesscpy>=0.11.2->jupyterthemes) (1.15.0)\n",
      "Requirement already satisfied: ply in /Users/eli/Library/Python/3.9/lib/python/site-packages (from lesscpy>=0.11.2->jupyterthemes) (3.11)\n",
      "Requirement already satisfied: cycler>=0.10 in /Users/eli/Library/Python/3.9/lib/python/site-packages (from matplotlib>=1.4.3->jupyterthemes) (0.10.0)\n",
      "Requirement already satisfied: pillow>=6.2.0 in /Users/eli/Library/Python/3.9/lib/python/site-packages (from matplotlib>=1.4.3->jupyterthemes) (8.2.0)\n",
      "Requirement already satisfied: python-dateutil>=2.7 in /Library/Frameworks/Python.framework/Versions/3.9/lib/python3.9/site-packages (from matplotlib>=1.4.3->jupyterthemes) (2.8.1)\n",
      "Requirement already satisfied: numpy>=1.16 in /Users/eli/Library/Python/3.9/lib/python/site-packages (from matplotlib>=1.4.3->jupyterthemes) (1.20.2)\n",
      "Requirement already satisfied: kiwisolver>=1.0.1 in /Users/eli/Library/Python/3.9/lib/python/site-packages (from matplotlib>=1.4.3->jupyterthemes) (1.3.1)\n",
      "Requirement already satisfied: pyparsing>=2.2.1 in /Library/Frameworks/Python.framework/Versions/3.9/lib/python3.9/site-packages (from matplotlib>=1.4.3->jupyterthemes) (2.4.7)\n",
      "Requirement already satisfied: nbconvert in /Library/Frameworks/Python.framework/Versions/3.9/lib/python3.9/site-packages (from notebook>=5.6.0->jupyterthemes) (6.0.7)\n",
      "Requirement already satisfied: jupyter-client>=5.3.4 in /Library/Frameworks/Python.framework/Versions/3.9/lib/python3.9/site-packages (from notebook>=5.6.0->jupyterthemes) (6.1.11)\n",
      "Requirement already satisfied: ipykernel in /Library/Frameworks/Python.framework/Versions/3.9/lib/python3.9/site-packages (from notebook>=5.6.0->jupyterthemes) (5.4.3)\n",
      "Requirement already satisfied: argon2-cffi in /Library/Frameworks/Python.framework/Versions/3.9/lib/python3.9/site-packages (from notebook>=5.6.0->jupyterthemes) (20.1.0)\n",
      "Requirement already satisfied: pyzmq>=17 in /Library/Frameworks/Python.framework/Versions/3.9/lib/python3.9/site-packages (from notebook>=5.6.0->jupyterthemes) (22.0.2)\n",
      "Requirement already satisfied: Send2Trash>=1.5.0 in /Library/Frameworks/Python.framework/Versions/3.9/lib/python3.9/site-packages (from notebook>=5.6.0->jupyterthemes) (1.5.0)\n",
      "Requirement already satisfied: tornado>=6.1 in /Library/Frameworks/Python.framework/Versions/3.9/lib/python3.9/site-packages (from notebook>=5.6.0->jupyterthemes) (6.1)\n",
      "Requirement already satisfied: prometheus-client in /Library/Frameworks/Python.framework/Versions/3.9/lib/python3.9/site-packages (from notebook>=5.6.0->jupyterthemes) (0.9.0)\n",
      "Requirement already satisfied: jinja2 in /Library/Frameworks/Python.framework/Versions/3.9/lib/python3.9/site-packages (from notebook>=5.6.0->jupyterthemes) (2.11.3)\n",
      "Requirement already satisfied: terminado>=0.8.3 in /Library/Frameworks/Python.framework/Versions/3.9/lib/python3.9/site-packages (from notebook>=5.6.0->jupyterthemes) (0.9.2)\n",
      "Requirement already satisfied: nbformat in /Library/Frameworks/Python.framework/Versions/3.9/lib/python3.9/site-packages (from notebook>=5.6.0->jupyterthemes) (5.1.2)\n",
      "Requirement already satisfied: ipython-genutils in /Library/Frameworks/Python.framework/Versions/3.9/lib/python3.9/site-packages (from notebook>=5.6.0->jupyterthemes) (0.2.0)\n",
      "Requirement already satisfied: ptyprocess>=0.5 in /Library/Frameworks/Python.framework/Versions/3.9/lib/python3.9/site-packages (from pexpect>4.3->ipython>=5.4.1->jupyterthemes) (0.7.0)\n",
      "Requirement already satisfied: wcwidth in /Library/Frameworks/Python.framework/Versions/3.9/lib/python3.9/site-packages (from prompt-toolkit!=3.0.0,!=3.0.1,<3.1.0,>=2.0.0->ipython>=5.4.1->jupyterthemes) (0.2.5)\n",
      "Requirement already satisfied: cffi>=1.0.0 in /Library/Frameworks/Python.framework/Versions/3.9/lib/python3.9/site-packages (from argon2-cffi->notebook>=5.6.0->jupyterthemes) (1.14.4)\n",
      "Requirement already satisfied: pycparser in /Library/Frameworks/Python.framework/Versions/3.9/lib/python3.9/site-packages (from cffi>=1.0.0->argon2-cffi->notebook>=5.6.0->jupyterthemes) (2.20)\n",
      "Requirement already satisfied: MarkupSafe>=0.23 in /Library/Frameworks/Python.framework/Versions/3.9/lib/python3.9/site-packages (from jinja2->notebook>=5.6.0->jupyterthemes) (1.1.1)\n",
      "Requirement already satisfied: pandocfilters>=1.4.1 in /Library/Frameworks/Python.framework/Versions/3.9/lib/python3.9/site-packages (from nbconvert->notebook>=5.6.0->jupyterthemes) (1.4.3)\n",
      "Requirement already satisfied: testpath in /Library/Frameworks/Python.framework/Versions/3.9/lib/python3.9/site-packages (from nbconvert->notebook>=5.6.0->jupyterthemes) (0.4.4)\n",
      "Requirement already satisfied: nbclient<0.6.0,>=0.5.0 in /Library/Frameworks/Python.framework/Versions/3.9/lib/python3.9/site-packages (from nbconvert->notebook>=5.6.0->jupyterthemes) (0.5.1)\n",
      "Requirement already satisfied: entrypoints>=0.2.2 in /Library/Frameworks/Python.framework/Versions/3.9/lib/python3.9/site-packages (from nbconvert->notebook>=5.6.0->jupyterthemes) (0.3)\n",
      "Requirement already satisfied: bleach in /Library/Frameworks/Python.framework/Versions/3.9/lib/python3.9/site-packages (from nbconvert->notebook>=5.6.0->jupyterthemes) (3.3.0)\n",
      "Requirement already satisfied: mistune<2,>=0.8.1 in /Library/Frameworks/Python.framework/Versions/3.9/lib/python3.9/site-packages (from nbconvert->notebook>=5.6.0->jupyterthemes) (0.8.4)\n",
      "Requirement already satisfied: defusedxml in /Library/Frameworks/Python.framework/Versions/3.9/lib/python3.9/site-packages (from nbconvert->notebook>=5.6.0->jupyterthemes) (0.6.0)\n",
      "Requirement already satisfied: jupyterlab-pygments in /Library/Frameworks/Python.framework/Versions/3.9/lib/python3.9/site-packages (from nbconvert->notebook>=5.6.0->jupyterthemes) (0.1.2)\n"
     ]
    },
    {
     "name": "stdout",
     "output_type": "stream",
     "text": [
      "Requirement already satisfied: nest-asyncio in /Library/Frameworks/Python.framework/Versions/3.9/lib/python3.9/site-packages (from nbclient<0.6.0,>=0.5.0->nbconvert->notebook>=5.6.0->jupyterthemes) (1.5.1)\n",
      "Requirement already satisfied: async-generator in /Library/Frameworks/Python.framework/Versions/3.9/lib/python3.9/site-packages (from nbclient<0.6.0,>=0.5.0->nbconvert->notebook>=5.6.0->jupyterthemes) (1.10)\n",
      "Requirement already satisfied: jsonschema!=2.5.0,>=2.4 in /Library/Frameworks/Python.framework/Versions/3.9/lib/python3.9/site-packages (from nbformat->notebook>=5.6.0->jupyterthemes) (3.2.0)\n",
      "Requirement already satisfied: attrs>=17.4.0 in /Library/Frameworks/Python.framework/Versions/3.9/lib/python3.9/site-packages (from jsonschema!=2.5.0,>=2.4->nbformat->notebook>=5.6.0->jupyterthemes) (20.3.0)\n",
      "Requirement already satisfied: pyrsistent>=0.14.0 in /Library/Frameworks/Python.framework/Versions/3.9/lib/python3.9/site-packages (from jsonschema!=2.5.0,>=2.4->nbformat->notebook>=5.6.0->jupyterthemes) (0.17.3)\n",
      "Requirement already satisfied: webencodings in /Library/Frameworks/Python.framework/Versions/3.9/lib/python3.9/site-packages (from bleach->nbconvert->notebook>=5.6.0->jupyterthemes) (0.5.1)\n",
      "Requirement already satisfied: packaging in /Library/Frameworks/Python.framework/Versions/3.9/lib/python3.9/site-packages (from bleach->nbconvert->notebook>=5.6.0->jupyterthemes) (20.9)\n",
      "\u001b[33mWARNING: You are using pip version 21.0.1; however, version 21.1 is available.\n",
      "You should consider upgrading via the '/usr/local/bin/python3 -m pip install --upgrade pip' command.\u001b[0m\n",
      "/bin/bash: jt: command not found\n"
     ]
    }
   ],
   "source": [
    "!pip install jupyterthemes\n",
    "!jt -t chesterish"
   ]
  },
  {
   "cell_type": "code",
   "execution_count": null,
   "id": "cooperative-marketing",
   "metadata": {},
   "outputs": [],
   "source": []
  }
 ],
 "metadata": {
  "kernelspec": {
   "display_name": "Python 3",
   "language": "python",
   "name": "python3"
  },
  "language_info": {
   "codemirror_mode": {
    "name": "ipython",
    "version": 3
   },
   "file_extension": ".py",
   "mimetype": "text/x-python",
   "name": "python",
   "nbconvert_exporter": "python",
   "pygments_lexer": "ipython3",
   "version": "3.9.0"
  }
 },
 "nbformat": 4,
 "nbformat_minor": 5
}
